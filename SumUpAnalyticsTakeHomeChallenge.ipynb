{
 "cells": [
  {
   "cell_type": "code",
   "execution_count": 2,
   "id": "d95992cd",
   "metadata": {},
   "outputs": [],
   "source": [
    "import pandas as pd\n",
    "import sqlite3"
   ]
  },
  {
   "cell_type": "code",
   "execution_count": 3,
   "id": "26a23de1",
   "metadata": {},
   "outputs": [
    {
     "data": {
      "text/plain": [
       "18408"
      ]
     },
     "execution_count": 3,
     "metadata": {},
     "output_type": "execute_result"
    }
   ],
   "source": [
    "conn = sqlite3.connect('my_data.db')\n",
    "c = conn.cursor()\n",
    "\n",
    "transactions = pd.read_csv('Home_Challenge_Data_Source.csv')\n",
    "transactions.created_at = pd.to_datetime(transactions.created_at, dayfirst=True)\n",
    "\n",
    "transactions.to_sql('transactions', conn, if_exists='replace')"
   ]
  },
  {
   "cell_type": "markdown",
   "id": "98ec3e4d",
   "metadata": {},
   "source": [
    "## First transactions from new merchant_ids that happent at the last day ofmonth"
   ]
  },
  {
   "cell_type": "code",
   "execution_count": 4,
   "id": "8d482d0a",
   "metadata": {},
   "outputs": [
    {
     "data": {
      "text/html": [
       "<div>\n",
       "<style scoped>\n",
       "    .dataframe tbody tr th:only-of-type {\n",
       "        vertical-align: middle;\n",
       "    }\n",
       "\n",
       "    .dataframe tbody tr th {\n",
       "        vertical-align: top;\n",
       "    }\n",
       "\n",
       "    .dataframe thead th {\n",
       "        text-align: right;\n",
       "    }\n",
       "</style>\n",
       "<table border=\"1\" class=\"dataframe\">\n",
       "  <thead>\n",
       "    <tr style=\"text-align: right;\">\n",
       "      <th></th>\n",
       "      <th>date_of_first_transaction</th>\n",
       "      <th>earliest_transaction</th>\n",
       "    </tr>\n",
       "  </thead>\n",
       "  <tbody>\n",
       "    <tr>\n",
       "      <th>0</th>\n",
       "      <td>2022-07-31</td>\n",
       "      <td>2022-07-31 02:01:00</td>\n",
       "    </tr>\n",
       "    <tr>\n",
       "      <th>1</th>\n",
       "      <td>2022-08-31</td>\n",
       "      <td>2022-08-31 04:26:00</td>\n",
       "    </tr>\n",
       "  </tbody>\n",
       "</table>\n",
       "</div>"
      ],
      "text/plain": [
       "  date_of_first_transaction earliest_transaction\n",
       "0                2022-07-31  2022-07-31 02:01:00\n",
       "1                2022-08-31  2022-08-31 04:26:00"
      ]
     },
     "execution_count": 4,
     "metadata": {},
     "output_type": "execute_result"
    }
   ],
   "source": [
    "query = \"\"\"\n",
    "SELECT \n",
    "    substring(first_date, 0, 11) as date_of_first_transaction,\n",
    "    min(first_date) as earliest_transaction\n",
    "FROM (\n",
    "    SELECT \n",
    "        merchant_id, \n",
    "        min(created_at) as first_date\n",
    "    FROM transactions\n",
    "    group by merchant_id\n",
    ")\n",
    "where first_date like '%-31%'\n",
    "group by substring(first_date, 0, 11)\n",
    "\"\"\"\n",
    "pd.read_sql_query(query, conn)"
   ]
  },
  {
   "cell_type": "markdown",
   "id": "832677f1",
   "metadata": {},
   "source": [
    "## SQL queries"
   ]
  },
  {
   "cell_type": "code",
   "execution_count": 5,
   "id": "f8460bdf",
   "metadata": {},
   "outputs": [
    {
     "name": "stdout",
     "output_type": "stream",
     "text": [
      "88 merchants made transactions with the reduced fees in August 2022\n"
     ]
    }
   ],
   "source": [
    "query = \"\"\"\n",
    "SELECT COUNT(DISTINCT merchant_id)\n",
    "FROM transactions\n",
    "WHERE \n",
    "    fee_type = 'reduced_fee_promo'\n",
    "    and transaction_status = 'successful'\n",
    "    and created_at like '2022-08%'\n",
    "\"\"\"\n",
    "text = 'merchants made transactions with the reduced fees in August 2022'\n",
    "print(c.execute(query).fetchall()[0][0], text)"
   ]
  },
  {
   "cell_type": "code",
   "execution_count": 6,
   "id": "4641bd0c",
   "metadata": {},
   "outputs": [
    {
     "name": "stdout",
     "output_type": "stream",
     "text": [
      "Merchant_id 255 had the highest number of successful reduced fee transactions\n"
     ]
    }
   ],
   "source": [
    "query = \"\"\"\n",
    "SELECT merchant_id\n",
    "FROM transactions\n",
    "WHERE \n",
    "    fee_type = 'reduced_fee_promo'\n",
    "    and transaction_status = 'successful'\n",
    "GROUP BY merchant_id\n",
    "ORDER BY count() DESC\n",
    "LIMIT 1\n",
    "\"\"\"\n",
    "print('Merchant_id', c.execute(query).fetchall()[0][0], \n",
    "      'had the highest number of successful reduced fee transactions')"
   ]
  },
  {
   "cell_type": "markdown",
   "id": "39ff8d09",
   "metadata": {},
   "source": [
    "## Bonus. Anomalies in data\n",
    "1. Transaction below has reduced _fee_amount_eur_, but _fee_type_ indicated as default"
   ]
  },
  {
   "cell_type": "code",
   "execution_count": 7,
   "id": "8fb080c5",
   "metadata": {},
   "outputs": [
    {
     "data": {
      "text/html": [
       "<div>\n",
       "<style scoped>\n",
       "    .dataframe tbody tr th:only-of-type {\n",
       "        vertical-align: middle;\n",
       "    }\n",
       "\n",
       "    .dataframe tbody tr th {\n",
       "        vertical-align: top;\n",
       "    }\n",
       "\n",
       "    .dataframe thead th {\n",
       "        text-align: right;\n",
       "    }\n",
       "</style>\n",
       "<table border=\"1\" class=\"dataframe\">\n",
       "  <thead>\n",
       "    <tr style=\"text-align: right;\">\n",
       "      <th></th>\n",
       "      <th>index</th>\n",
       "      <th>merchant_id</th>\n",
       "      <th>product</th>\n",
       "      <th>fee_type</th>\n",
       "      <th>fee_amount_eur</th>\n",
       "      <th>created_at</th>\n",
       "      <th>transaction_amount_eur</th>\n",
       "      <th>transaction_status</th>\n",
       "    </tr>\n",
       "  </thead>\n",
       "  <tbody>\n",
       "    <tr>\n",
       "      <th>0</th>\n",
       "      <td>11918</td>\n",
       "      <td>280</td>\n",
       "      <td>card_reader</td>\n",
       "      <td>default</td>\n",
       "      <td>0.8</td>\n",
       "      <td>2022-08-18 04:36:00</td>\n",
       "      <td>67.3</td>\n",
       "      <td>successful</td>\n",
       "    </tr>\n",
       "  </tbody>\n",
       "</table>\n",
       "</div>"
      ],
      "text/plain": [
       "   index  merchant_id      product fee_type  fee_amount_eur  \\\n",
       "0  11918          280  card_reader  default             0.8   \n",
       "\n",
       "            created_at  transaction_amount_eur transaction_status  \n",
       "0  2022-08-18 04:36:00                    67.3         successful  "
      ]
     },
     "execution_count": 7,
     "metadata": {},
     "output_type": "execute_result"
    }
   ],
   "source": [
    "query = \"\"\"\n",
    "SELECT *\n",
    "FROM transactions\n",
    "where fee_amount_eur != 1 and fee_type = 'default'\n",
    "\n",
    "\"\"\"\n",
    "pd.read_sql_query(query, conn)"
   ]
  },
  {
   "cell_type": "code",
   "execution_count": 8,
   "id": "005b3981",
   "metadata": {},
   "outputs": [
    {
     "data": {
      "text/html": [
       "<div>\n",
       "<style scoped>\n",
       "    .dataframe tbody tr th:only-of-type {\n",
       "        vertical-align: middle;\n",
       "    }\n",
       "\n",
       "    .dataframe tbody tr th {\n",
       "        vertical-align: top;\n",
       "    }\n",
       "\n",
       "    .dataframe thead th {\n",
       "        text-align: right;\n",
       "    }\n",
       "</style>\n",
       "<table border=\"1\" class=\"dataframe\">\n",
       "  <thead>\n",
       "    <tr style=\"text-align: right;\">\n",
       "      <th></th>\n",
       "      <th>used_promo</th>\n",
       "      <th>not_used_promo</th>\n",
       "      <th>merchants</th>\n",
       "    </tr>\n",
       "  </thead>\n",
       "  <tbody>\n",
       "    <tr>\n",
       "      <th>0</th>\n",
       "      <td>0</td>\n",
       "      <td>1</td>\n",
       "      <td>144</td>\n",
       "    </tr>\n",
       "    <tr>\n",
       "      <th>1</th>\n",
       "      <td>1</td>\n",
       "      <td>0</td>\n",
       "      <td>119</td>\n",
       "    </tr>\n",
       "    <tr>\n",
       "      <th>2</th>\n",
       "      <td>1</td>\n",
       "      <td>1</td>\n",
       "      <td>1</td>\n",
       "    </tr>\n",
       "  </tbody>\n",
       "</table>\n",
       "</div>"
      ],
      "text/plain": [
       "   used_promo  not_used_promo  merchants\n",
       "0           0               1        144\n",
       "1           1               0        119\n",
       "2           1               1          1"
      ]
     },
     "execution_count": 8,
     "metadata": {},
     "output_type": "execute_result"
    }
   ],
   "source": [
    "query = \"\"\"\n",
    "SELECT used_promo, not_used_promo, count() as merchants\n",
    "FROM (\n",
    "    SELECT merchant_id, max(fee_type = 'reduced_fee_promo') as used_promo, max(fee_type = 'default') as not_used_promo\n",
    "    FROM transactions\n",
    "    group by merchant_id\n",
    ")\n",
    "group by used_promo, not_used_promo\n",
    "\"\"\"\n",
    "pd.read_sql_query(query, conn)"
   ]
  },
  {
   "cell_type": "markdown",
   "id": "24e243b8",
   "metadata": {},
   "source": [
    "2. No transactions at 30 June"
   ]
  },
  {
   "cell_type": "code",
   "execution_count": 9,
   "id": "9746b48e",
   "metadata": {},
   "outputs": [
    {
     "data": {
      "text/html": [
       "<div>\n",
       "<style scoped>\n",
       "    .dataframe tbody tr th:only-of-type {\n",
       "        vertical-align: middle;\n",
       "    }\n",
       "\n",
       "    .dataframe tbody tr th {\n",
       "        vertical-align: top;\n",
       "    }\n",
       "\n",
       "    .dataframe thead th {\n",
       "        text-align: right;\n",
       "    }\n",
       "</style>\n",
       "<table border=\"1\" class=\"dataframe\">\n",
       "  <thead>\n",
       "    <tr style=\"text-align: right;\">\n",
       "      <th></th>\n",
       "      <th>index</th>\n",
       "      <th>merchant_id</th>\n",
       "      <th>product</th>\n",
       "      <th>fee_type</th>\n",
       "      <th>fee_amount_eur</th>\n",
       "      <th>created_at</th>\n",
       "      <th>transaction_amount_eur</th>\n",
       "      <th>transaction_status</th>\n",
       "    </tr>\n",
       "  </thead>\n",
       "  <tbody>\n",
       "  </tbody>\n",
       "</table>\n",
       "</div>"
      ],
      "text/plain": [
       "Empty DataFrame\n",
       "Columns: [index, merchant_id, product, fee_type, fee_amount_eur, created_at, transaction_amount_eur, transaction_status]\n",
       "Index: []"
      ]
     },
     "execution_count": 9,
     "metadata": {},
     "output_type": "execute_result"
    }
   ],
   "source": [
    "query = \"\"\"\n",
    "SELECT *\n",
    "FROM transactions\n",
    "where created_at like '2022-06-30%'\n",
    "\n",
    "\"\"\"\n",
    "pd.read_sql_query(query, conn)"
   ]
  },
  {
   "cell_type": "markdown",
   "id": "ca07a9f8",
   "metadata": {},
   "source": [
    "3. No new merchant_id for almost 2 months: since 6 June till 30 July"
   ]
  },
  {
   "cell_type": "code",
   "execution_count": 10,
   "id": "cece550d",
   "metadata": {},
   "outputs": [
    {
     "data": {
      "text/html": [
       "<div>\n",
       "<style scoped>\n",
       "    .dataframe tbody tr th:only-of-type {\n",
       "        vertical-align: middle;\n",
       "    }\n",
       "\n",
       "    .dataframe tbody tr th {\n",
       "        vertical-align: top;\n",
       "    }\n",
       "\n",
       "    .dataframe thead th {\n",
       "        text-align: right;\n",
       "    }\n",
       "</style>\n",
       "<table border=\"1\" class=\"dataframe\">\n",
       "  <thead>\n",
       "    <tr style=\"text-align: right;\">\n",
       "      <th></th>\n",
       "      <th>first_date</th>\n",
       "      <th>new_merchants</th>\n",
       "    </tr>\n",
       "  </thead>\n",
       "  <tbody>\n",
       "    <tr>\n",
       "      <th>0</th>\n",
       "      <td>2022-06-01</td>\n",
       "      <td>69</td>\n",
       "    </tr>\n",
       "    <tr>\n",
       "      <th>1</th>\n",
       "      <td>2022-06-02</td>\n",
       "      <td>25</td>\n",
       "    </tr>\n",
       "    <tr>\n",
       "      <th>2</th>\n",
       "      <td>2022-06-03</td>\n",
       "      <td>4</td>\n",
       "    </tr>\n",
       "    <tr>\n",
       "      <th>3</th>\n",
       "      <td>2022-06-04</td>\n",
       "      <td>2</td>\n",
       "    </tr>\n",
       "    <tr>\n",
       "      <th>4</th>\n",
       "      <td>2022-06-05</td>\n",
       "      <td>1</td>\n",
       "    </tr>\n",
       "    <tr>\n",
       "      <th>5</th>\n",
       "      <td>2022-07-31</td>\n",
       "      <td>39</td>\n",
       "    </tr>\n",
       "    <tr>\n",
       "      <th>6</th>\n",
       "      <td>2022-08-01</td>\n",
       "      <td>28</td>\n",
       "    </tr>\n",
       "    <tr>\n",
       "      <th>7</th>\n",
       "      <td>2022-08-02</td>\n",
       "      <td>18</td>\n",
       "    </tr>\n",
       "    <tr>\n",
       "      <th>8</th>\n",
       "      <td>2022-08-03</td>\n",
       "      <td>19</td>\n",
       "    </tr>\n",
       "    <tr>\n",
       "      <th>9</th>\n",
       "      <td>2022-08-04</td>\n",
       "      <td>9</td>\n",
       "    </tr>\n",
       "    <tr>\n",
       "      <th>10</th>\n",
       "      <td>2022-08-05</td>\n",
       "      <td>4</td>\n",
       "    </tr>\n",
       "    <tr>\n",
       "      <th>11</th>\n",
       "      <td>2022-08-06</td>\n",
       "      <td>4</td>\n",
       "    </tr>\n",
       "    <tr>\n",
       "      <th>12</th>\n",
       "      <td>2022-08-10</td>\n",
       "      <td>1</td>\n",
       "    </tr>\n",
       "    <tr>\n",
       "      <th>13</th>\n",
       "      <td>2022-08-11</td>\n",
       "      <td>1</td>\n",
       "    </tr>\n",
       "    <tr>\n",
       "      <th>14</th>\n",
       "      <td>2022-08-31</td>\n",
       "      <td>8</td>\n",
       "    </tr>\n",
       "    <tr>\n",
       "      <th>15</th>\n",
       "      <td>2022-09-01</td>\n",
       "      <td>8</td>\n",
       "    </tr>\n",
       "    <tr>\n",
       "      <th>16</th>\n",
       "      <td>2022-09-02</td>\n",
       "      <td>5</td>\n",
       "    </tr>\n",
       "    <tr>\n",
       "      <th>17</th>\n",
       "      <td>2022-09-03</td>\n",
       "      <td>5</td>\n",
       "    </tr>\n",
       "    <tr>\n",
       "      <th>18</th>\n",
       "      <td>2022-09-04</td>\n",
       "      <td>6</td>\n",
       "    </tr>\n",
       "    <tr>\n",
       "      <th>19</th>\n",
       "      <td>2022-09-05</td>\n",
       "      <td>3</td>\n",
       "    </tr>\n",
       "    <tr>\n",
       "      <th>20</th>\n",
       "      <td>2022-09-07</td>\n",
       "      <td>4</td>\n",
       "    </tr>\n",
       "    <tr>\n",
       "      <th>21</th>\n",
       "      <td>2022-09-14</td>\n",
       "      <td>1</td>\n",
       "    </tr>\n",
       "  </tbody>\n",
       "</table>\n",
       "</div>"
      ],
      "text/plain": [
       "    first_date  new_merchants\n",
       "0   2022-06-01             69\n",
       "1   2022-06-02             25\n",
       "2   2022-06-03              4\n",
       "3   2022-06-04              2\n",
       "4   2022-06-05              1\n",
       "5   2022-07-31             39\n",
       "6   2022-08-01             28\n",
       "7   2022-08-02             18\n",
       "8   2022-08-03             19\n",
       "9   2022-08-04              9\n",
       "10  2022-08-05              4\n",
       "11  2022-08-06              4\n",
       "12  2022-08-10              1\n",
       "13  2022-08-11              1\n",
       "14  2022-08-31              8\n",
       "15  2022-09-01              8\n",
       "16  2022-09-02              5\n",
       "17  2022-09-03              5\n",
       "18  2022-09-04              6\n",
       "19  2022-09-05              3\n",
       "20  2022-09-07              4\n",
       "21  2022-09-14              1"
      ]
     },
     "execution_count": 10,
     "metadata": {},
     "output_type": "execute_result"
    }
   ],
   "source": [
    "query = \"\"\"\n",
    "SELECT first_date, count() as new_merchants\n",
    "FROM (\n",
    "    SELECT merchant_id, substring(min(created_at), 0, 11) as first_date\n",
    "    FROM transactions\n",
    "    group by merchant_id\n",
    ")\n",
    "group by first_date\n",
    "order by first_date\n",
    "\"\"\"\n",
    "pd.read_sql_query(query, conn)"
   ]
  },
  {
   "cell_type": "code",
   "execution_count": null,
   "id": "317bac61",
   "metadata": {},
   "outputs": [],
   "source": []
  }
 ],
 "metadata": {
  "kernelspec": {
   "display_name": "Python 3 (ipykernel)",
   "language": "python",
   "name": "python3"
  },
  "language_info": {
   "codemirror_mode": {
    "name": "ipython",
    "version": 3
   },
   "file_extension": ".py",
   "mimetype": "text/x-python",
   "name": "python",
   "nbconvert_exporter": "python",
   "pygments_lexer": "ipython3",
   "version": "3.9.13"
  }
 },
 "nbformat": 4,
 "nbformat_minor": 5
}
